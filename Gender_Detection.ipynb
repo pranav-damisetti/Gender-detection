{
  "nbformat": 4,
  "nbformat_minor": 0,
  "metadata": {
    "colab": {
      "provenance": [],
      "gpuType": "T4",
      "mount_file_id": "11s2Yow-jxr7TvyQj3sQVbYqhxMTtYDwT",
      "authorship_tag": "ABX9TyMBJxJtIRq7Sl0e7Yc6B6Ra"
    },
    "kernelspec": {
      "name": "python3",
      "display_name": "Python 3"
    },
    "language_info": {
      "name": "python"
    },
    "accelerator": "GPU"
  },
  "cells": [
    {
      "cell_type": "code",
      "source": [
        "from google.colab import drive\n",
        "drive.mount('/content/gdrive')"
      ],
      "metadata": {
        "colab": {
          "base_uri": "https://localhost:8080/"
        },
        "id": "0bxI5yrEw9xH",
        "outputId": "19630388-aba7-4f27-b091-c81104e4f7a5"
      },
      "execution_count": 1,
      "outputs": [
        {
          "output_type": "stream",
          "name": "stdout",
          "text": [
            "Mounted at /content/gdrive\n"
          ]
        }
      ]
    },
    {
      "cell_type": "code",
      "execution_count": 11,
      "metadata": {
        "colab": {
          "base_uri": "https://localhost:8080/"
        },
        "id": "7uZawS5VHTS8",
        "outputId": "99b368de-6c32-4397-bb42-3c6a6b4bcfae"
      },
      "outputs": [
        {
          "output_type": "stream",
          "name": "stdout",
          "text": [
            "Successfully extracted contents to /content/a\n"
          ]
        }
      ],
      "source": [
        "import zipfile\n",
        "import os\n",
        "\n",
        "zip_file_path = '/content/gdrive/MyDrive/Project_datasets/Gender_detection_dataset/archive.zip'\n",
        "extract_folder = '/content/a'\n",
        "\n",
        "with zipfile.ZipFile(zip_file_path, 'r') as zip_ref:\n",
        "    zip_ref.extractall(extract_folder)\n",
        "\n",
        "print(f\"Successfully extracted contents to {extract_folder}\")"
      ]
    },
    {
      "cell_type": "code",
      "source": [
        "import os\n",
        "import cv2\n",
        "import numpy as np\n",
        "import pandas as pd\n",
        "import tensorflow as tf\n",
        "from tensorflow.keras.layers import Dense, Conv2D, MaxPooling2D, Flatten, Dropout, BatchNormalization, Activation\n",
        "from tensorflow.keras.activations import relu, softmax\n",
        "from tensorflow.keras.optimizers import Adam\n",
        "from keras.preprocessing.image import img_to_array, load_img\n",
        "from tensorflow.keras.utils import to_categorical, plot_model\n",
        "from tensorflow.keras import backend\n",
        "import matplotlib.pyplot as plt"
      ],
      "metadata": {
        "id": "T0lEiaMnKVnY"
      },
      "execution_count": 12,
      "outputs": []
    },
    {
      "cell_type": "code",
      "source": [
        "training_folder = '/content/a/Training'\n",
        "test_folder = '/content/a/Validation'\n",
        "\n",
        "def load_images(folder, expected_size):\n",
        "    image_arrays = []\n",
        "    image_label = []\n",
        "\n",
        "    for subfolder in os.listdir(folder):\n",
        "        subfolder_path = os.path.join(folder, subfolder)\n",
        "        if os.path.isdir(subfolder_path):\n",
        "            for filename in os.listdir(subfolder_path):\n",
        "              img_path = os.path.join(subfolder_path, filename)\n",
        "\n",
        "              img = load_img(img_path, target_size = expected_size)\n",
        "              img_array = img_to_array(img)\n",
        "\n",
        "              image_arrays.append(img_array)\n",
        "              if subfolder == \"female\":\n",
        "                  image_label.append([1])\n",
        "              else:\n",
        "                  image_label.append([0])\n",
        "\n",
        "    return np.array(image_arrays, dtype = \"float\"), np.array(image_label)"
      ],
      "metadata": {
        "id": "8o31qFm-KVv0"
      },
      "execution_count": 13,
      "outputs": []
    },
    {
      "cell_type": "code",
      "source": [
        "expected_size = (28,28,3)\n",
        "learning_rate = 1e-3\n",
        "epochs = 100\n",
        "batch_size = 32"
      ],
      "metadata": {
        "id": "vca77PfkKVyf"
      },
      "execution_count": 14,
      "outputs": []
    },
    {
      "cell_type": "code",
      "source": [
        "X_train, y_train = load_images(training_folder,expected_size)\n",
        "X_test, y_test = load_images(test_folder,expected_size)"
      ],
      "metadata": {
        "id": "12_fXXyNKV1N"
      },
      "execution_count": 15,
      "outputs": []
    },
    {
      "cell_type": "code",
      "source": [
        "y_train = to_categorical(y_train, num_classes = 2)\n",
        "y_test = to_categorical(y_test, num_classes = 2)"
      ],
      "metadata": {
        "id": "GpNdNjASKV6S"
      },
      "execution_count": 16,
      "outputs": []
    },
    {
      "cell_type": "code",
      "source": [
        "from tensorflow.keras.models import Sequential\n",
        "def build(input_shape,classes):\n",
        "    model = Sequential()\n",
        "    chanDim = -1\n",
        "    if backend.image_data_format() == \"channels_first\":\n",
        "        height =  input_shape[0]\n",
        "        width = input_shape[1]\n",
        "        depth = input_shape[2]\n",
        "        input_shape = (depth, height, width)\n",
        "        chanDim = 1\n",
        "\n",
        "    model.add(Conv2D(32, (3,3), padding=\"same\", input_shape=input_shape))\n",
        "    model.add(Activation(\"relu\"))\n",
        "    model.add(BatchNormalization(axis=chanDim))\n",
        "    model.add(MaxPooling2D(pool_size=(3,3)))\n",
        "    model.add(Dropout(0.25))\n",
        "\n",
        "    model.add(Conv2D(64, (3,3), padding=\"same\"))\n",
        "    model.add(Activation(\"relu\"))\n",
        "    model.add(BatchNormalization(axis=chanDim))\n",
        "\n",
        "    model.add(Conv2D(64, (3,3), padding=\"same\"))\n",
        "    model.add(Activation(\"relu\"))\n",
        "    model.add(BatchNormalization(axis=chanDim))\n",
        "    model.add(MaxPooling2D(pool_size=(2,2)))\n",
        "    model.add(Dropout(0.25))\n",
        "\n",
        "    model.add(Flatten())\n",
        "    model.add(Dense(1024, activation=\"relu\"))\n",
        "    model.add(BatchNormalization())\n",
        "    model.add(Dropout(0.5))\n",
        "\n",
        "    model.add(Dense(classes, activation=\"sigmoid\"))\n",
        "\n",
        "    return model"
      ],
      "metadata": {
        "id": "6hSwuf20KV8_"
      },
      "execution_count": 17,
      "outputs": []
    },
    {
      "cell_type": "code",
      "source": [
        "from tensorflow.keras.losses import BinaryCrossentropy"
      ],
      "metadata": {
        "id": "Olq9uAjoy9xg"
      },
      "execution_count": 18,
      "outputs": []
    },
    {
      "cell_type": "code",
      "source": [
        "model = build(expected_size, classes=2)\n",
        "\n",
        "\n",
        "opt = Adam(learning_rate=learning_rate, amsgrad=False)\n",
        "model.compile(loss=\"BinaryCrossentropy\", optimizer=opt, metrics=[\"accuracy\"])\n",
        "\n",
        "\n",
        "history = model.fit(X_train, y_train, validation_data=(X_test,y_test), epochs=epochs, batch_size=batch_size, verbose=1)"
      ],
      "metadata": {
        "id": "7uf9cGaXKV_4",
        "colab": {
          "base_uri": "https://localhost:8080/"
        },
        "outputId": "5e468f7f-b4e9-418c-a9b4-5fd7b1018ccf"
      },
      "execution_count": 19,
      "outputs": [
        {
          "output_type": "stream",
          "name": "stdout",
          "text": [
            "Epoch 1/100\n",
            "1470/1470 [==============================] - 14s 8ms/step - loss: 0.2969 - accuracy: 0.8874 - val_loss: 0.2616 - val_accuracy: 0.8899\n",
            "Epoch 2/100\n",
            "1470/1470 [==============================] - 10s 7ms/step - loss: 0.2035 - accuracy: 0.9234 - val_loss: 0.1700 - val_accuracy: 0.9312\n",
            "Epoch 3/100\n",
            "1470/1470 [==============================] - 10s 7ms/step - loss: 0.1840 - accuracy: 0.9319 - val_loss: 0.2689 - val_accuracy: 0.9087\n",
            "Epoch 4/100\n",
            "1470/1470 [==============================] - 11s 7ms/step - loss: 0.1673 - accuracy: 0.9374 - val_loss: 0.1570 - val_accuracy: 0.9406\n",
            "Epoch 5/100\n",
            "1470/1470 [==============================] - 10s 7ms/step - loss: 0.1603 - accuracy: 0.9420 - val_loss: 0.1340 - val_accuracy: 0.9501\n",
            "Epoch 6/100\n",
            "1470/1470 [==============================] - 11s 7ms/step - loss: 0.1570 - accuracy: 0.9422 - val_loss: 0.1140 - val_accuracy: 0.9577\n",
            "Epoch 7/100\n",
            "1470/1470 [==============================] - 10s 7ms/step - loss: 0.1546 - accuracy: 0.9447 - val_loss: 0.1233 - val_accuracy: 0.9540\n",
            "Epoch 8/100\n",
            "1470/1470 [==============================] - 10s 7ms/step - loss: 0.1519 - accuracy: 0.9441 - val_loss: 0.1312 - val_accuracy: 0.9541\n",
            "Epoch 9/100\n",
            "1470/1470 [==============================] - 11s 7ms/step - loss: 0.1431 - accuracy: 0.9481 - val_loss: 0.1485 - val_accuracy: 0.9450\n",
            "Epoch 10/100\n",
            "1470/1470 [==============================] - 11s 8ms/step - loss: 0.1401 - accuracy: 0.9492 - val_loss: 0.1193 - val_accuracy: 0.9543\n",
            "Epoch 11/100\n",
            "1470/1470 [==============================] - 11s 8ms/step - loss: 0.1368 - accuracy: 0.9503 - val_loss: 0.1254 - val_accuracy: 0.9555\n",
            "Epoch 12/100\n",
            "1470/1470 [==============================] - 11s 8ms/step - loss: 0.1339 - accuracy: 0.9501 - val_loss: 0.1114 - val_accuracy: 0.9576\n",
            "Epoch 13/100\n",
            "1470/1470 [==============================] - 10s 7ms/step - loss: 0.1306 - accuracy: 0.9539 - val_loss: 0.1239 - val_accuracy: 0.9548\n",
            "Epoch 14/100\n",
            "1470/1470 [==============================] - 11s 7ms/step - loss: 0.1302 - accuracy: 0.9532 - val_loss: 0.1150 - val_accuracy: 0.9598\n",
            "Epoch 15/100\n",
            "1470/1470 [==============================] - 11s 7ms/step - loss: 0.1266 - accuracy: 0.9550 - val_loss: 0.1062 - val_accuracy: 0.9601\n",
            "Epoch 16/100\n",
            "1470/1470 [==============================] - 11s 7ms/step - loss: 0.1275 - accuracy: 0.9548 - val_loss: 0.1077 - val_accuracy: 0.9613\n",
            "Epoch 17/100\n",
            "1470/1470 [==============================] - 11s 7ms/step - loss: 0.1176 - accuracy: 0.9573 - val_loss: 0.1113 - val_accuracy: 0.9576\n",
            "Epoch 18/100\n",
            "1470/1470 [==============================] - 11s 7ms/step - loss: 0.1180 - accuracy: 0.9575 - val_loss: 0.1511 - val_accuracy: 0.9433\n",
            "Epoch 19/100\n",
            "1470/1470 [==============================] - 11s 7ms/step - loss: 0.1149 - accuracy: 0.9597 - val_loss: 0.1043 - val_accuracy: 0.9610\n",
            "Epoch 20/100\n",
            "1470/1470 [==============================] - 11s 8ms/step - loss: 0.1106 - accuracy: 0.9608 - val_loss: 0.1058 - val_accuracy: 0.9626\n",
            "Epoch 21/100\n",
            "1470/1470 [==============================] - 11s 8ms/step - loss: 0.1115 - accuracy: 0.9604 - val_loss: 0.1225 - val_accuracy: 0.9587\n",
            "Epoch 22/100\n",
            "1470/1470 [==============================] - 11s 8ms/step - loss: 0.1106 - accuracy: 0.9602 - val_loss: 0.1149 - val_accuracy: 0.9597\n",
            "Epoch 23/100\n",
            "1470/1470 [==============================] - 11s 7ms/step - loss: 0.1084 - accuracy: 0.9598 - val_loss: 0.1106 - val_accuracy: 0.9600\n",
            "Epoch 24/100\n",
            "1470/1470 [==============================] - 12s 8ms/step - loss: 0.1065 - accuracy: 0.9616 - val_loss: 0.1064 - val_accuracy: 0.9630\n",
            "Epoch 25/100\n",
            "1470/1470 [==============================] - 10s 7ms/step - loss: 0.1040 - accuracy: 0.9630 - val_loss: 0.1046 - val_accuracy: 0.9638\n",
            "Epoch 26/100\n",
            "1470/1470 [==============================] - 10s 7ms/step - loss: 0.1052 - accuracy: 0.9619 - val_loss: 0.1014 - val_accuracy: 0.9645\n",
            "Epoch 27/100\n",
            "1470/1470 [==============================] - 11s 7ms/step - loss: 0.1046 - accuracy: 0.9627 - val_loss: 0.1007 - val_accuracy: 0.9633\n",
            "Epoch 28/100\n",
            "1470/1470 [==============================] - 10s 7ms/step - loss: 0.1011 - accuracy: 0.9630 - val_loss: 0.1047 - val_accuracy: 0.9642\n",
            "Epoch 29/100\n",
            "1470/1470 [==============================] - 11s 7ms/step - loss: 0.1001 - accuracy: 0.9644 - val_loss: 0.1170 - val_accuracy: 0.9581\n",
            "Epoch 30/100\n",
            "1470/1470 [==============================] - 10s 7ms/step - loss: 0.1009 - accuracy: 0.9637 - val_loss: 0.1274 - val_accuracy: 0.9550\n",
            "Epoch 31/100\n",
            "1470/1470 [==============================] - 11s 7ms/step - loss: 0.0995 - accuracy: 0.9645 - val_loss: 0.1328 - val_accuracy: 0.9494\n",
            "Epoch 32/100\n",
            "1470/1470 [==============================] - 10s 7ms/step - loss: 0.0954 - accuracy: 0.9656 - val_loss: 0.1112 - val_accuracy: 0.9604\n",
            "Epoch 33/100\n",
            "1470/1470 [==============================] - 10s 7ms/step - loss: 0.0925 - accuracy: 0.9666 - val_loss: 0.1072 - val_accuracy: 0.9636\n",
            "Epoch 34/100\n",
            "1470/1470 [==============================] - 11s 7ms/step - loss: 0.0927 - accuracy: 0.9673 - val_loss: 0.1015 - val_accuracy: 0.9650\n",
            "Epoch 35/100\n",
            "1470/1470 [==============================] - 11s 7ms/step - loss: 0.0922 - accuracy: 0.9661 - val_loss: 0.1420 - val_accuracy: 0.9523\n",
            "Epoch 36/100\n",
            "1470/1470 [==============================] - 9s 6ms/step - loss: 0.0929 - accuracy: 0.9668 - val_loss: 0.1160 - val_accuracy: 0.9624\n",
            "Epoch 37/100\n",
            "1470/1470 [==============================] - 11s 7ms/step - loss: 0.0955 - accuracy: 0.9656 - val_loss: 0.1076 - val_accuracy: 0.9633\n",
            "Epoch 38/100\n",
            "1470/1470 [==============================] - 11s 7ms/step - loss: 0.0897 - accuracy: 0.9673 - val_loss: 0.1201 - val_accuracy: 0.9609\n",
            "Epoch 39/100\n",
            "1470/1470 [==============================] - 11s 7ms/step - loss: 0.0842 - accuracy: 0.9688 - val_loss: 0.1171 - val_accuracy: 0.9624\n",
            "Epoch 40/100\n",
            "1470/1470 [==============================] - 11s 7ms/step - loss: 0.0889 - accuracy: 0.9683 - val_loss: 0.1116 - val_accuracy: 0.9642\n",
            "Epoch 41/100\n",
            "1470/1470 [==============================] - 10s 7ms/step - loss: 0.0859 - accuracy: 0.9689 - val_loss: 0.1145 - val_accuracy: 0.9592\n",
            "Epoch 42/100\n",
            "1470/1470 [==============================] - 10s 7ms/step - loss: 0.0834 - accuracy: 0.9700 - val_loss: 0.1212 - val_accuracy: 0.9597\n",
            "Epoch 43/100\n",
            "1470/1470 [==============================] - 11s 7ms/step - loss: 0.0813 - accuracy: 0.9706 - val_loss: 0.1191 - val_accuracy: 0.9621\n",
            "Epoch 44/100\n",
            "1470/1470 [==============================] - 10s 7ms/step - loss: 0.0848 - accuracy: 0.9688 - val_loss: 0.1302 - val_accuracy: 0.9553\n",
            "Epoch 45/100\n",
            "1470/1470 [==============================] - 10s 7ms/step - loss: 0.0844 - accuracy: 0.9693 - val_loss: 0.1057 - val_accuracy: 0.9628\n",
            "Epoch 46/100\n",
            "1470/1470 [==============================] - 10s 7ms/step - loss: 0.0818 - accuracy: 0.9696 - val_loss: 0.1162 - val_accuracy: 0.9628\n",
            "Epoch 47/100\n",
            "1470/1470 [==============================] - 10s 7ms/step - loss: 0.0837 - accuracy: 0.9698 - val_loss: 0.1181 - val_accuracy: 0.9605\n",
            "Epoch 48/100\n",
            "1470/1470 [==============================] - 10s 7ms/step - loss: 0.0820 - accuracy: 0.9695 - val_loss: 0.1141 - val_accuracy: 0.9627\n",
            "Epoch 49/100\n",
            "1470/1470 [==============================] - 11s 7ms/step - loss: 0.0808 - accuracy: 0.9713 - val_loss: 0.1153 - val_accuracy: 0.9625\n",
            "Epoch 50/100\n",
            "1470/1470 [==============================] - 10s 7ms/step - loss: 0.0773 - accuracy: 0.9715 - val_loss: 0.1178 - val_accuracy: 0.9574\n",
            "Epoch 51/100\n",
            "1470/1470 [==============================] - 10s 7ms/step - loss: 0.0765 - accuracy: 0.9726 - val_loss: 0.1107 - val_accuracy: 0.9641\n",
            "Epoch 52/100\n",
            "1470/1470 [==============================] - 10s 7ms/step - loss: 0.0732 - accuracy: 0.9734 - val_loss: 0.1092 - val_accuracy: 0.9643\n",
            "Epoch 53/100\n",
            "1470/1470 [==============================] - 11s 7ms/step - loss: 0.0730 - accuracy: 0.9733 - val_loss: 0.1161 - val_accuracy: 0.9634\n",
            "Epoch 54/100\n",
            "1470/1470 [==============================] - 10s 7ms/step - loss: 0.0761 - accuracy: 0.9729 - val_loss: 0.1095 - val_accuracy: 0.9633\n",
            "Epoch 55/100\n",
            "1470/1470 [==============================] - 11s 7ms/step - loss: 0.0735 - accuracy: 0.9720 - val_loss: 0.1145 - val_accuracy: 0.9632\n",
            "Epoch 56/100\n",
            "1470/1470 [==============================] - 10s 7ms/step - loss: 0.0724 - accuracy: 0.9744 - val_loss: 0.1137 - val_accuracy: 0.9645\n",
            "Epoch 57/100\n",
            "1470/1470 [==============================] - 9s 6ms/step - loss: 0.0730 - accuracy: 0.9720 - val_loss: 0.1073 - val_accuracy: 0.9634\n",
            "Epoch 58/100\n",
            "1470/1470 [==============================] - 10s 7ms/step - loss: 0.0735 - accuracy: 0.9730 - val_loss: 0.1211 - val_accuracy: 0.9588\n",
            "Epoch 59/100\n",
            "1470/1470 [==============================] - 10s 7ms/step - loss: 0.0719 - accuracy: 0.9730 - val_loss: 0.1084 - val_accuracy: 0.9658\n",
            "Epoch 60/100\n",
            "1470/1470 [==============================] - 10s 7ms/step - loss: 0.0706 - accuracy: 0.9737 - val_loss: 0.1126 - val_accuracy: 0.9627\n",
            "Epoch 61/100\n",
            "1470/1470 [==============================] - 9s 6ms/step - loss: 0.0708 - accuracy: 0.9738 - val_loss: 0.1149 - val_accuracy: 0.9638\n",
            "Epoch 62/100\n",
            "1470/1470 [==============================] - 10s 7ms/step - loss: 0.0687 - accuracy: 0.9746 - val_loss: 0.1131 - val_accuracy: 0.9659\n",
            "Epoch 63/100\n",
            "1470/1470 [==============================] - 10s 7ms/step - loss: 0.0659 - accuracy: 0.9758 - val_loss: 0.1536 - val_accuracy: 0.9562\n",
            "Epoch 64/100\n",
            "1470/1470 [==============================] - 11s 7ms/step - loss: 0.0683 - accuracy: 0.9753 - val_loss: 0.1164 - val_accuracy: 0.9623\n",
            "Epoch 65/100\n",
            "1470/1470 [==============================] - 10s 7ms/step - loss: 0.0695 - accuracy: 0.9749 - val_loss: 0.1303 - val_accuracy: 0.9591\n",
            "Epoch 66/100\n",
            "1470/1470 [==============================] - 10s 7ms/step - loss: 0.0701 - accuracy: 0.9747 - val_loss: 0.1139 - val_accuracy: 0.9639\n",
            "Epoch 67/100\n",
            "1470/1470 [==============================] - 10s 7ms/step - loss: 0.0661 - accuracy: 0.9761 - val_loss: 0.1132 - val_accuracy: 0.9650\n",
            "Epoch 68/100\n",
            "1470/1470 [==============================] - 10s 7ms/step - loss: 0.0657 - accuracy: 0.9767 - val_loss: 0.1222 - val_accuracy: 0.9604\n",
            "Epoch 69/100\n",
            "1470/1470 [==============================] - 10s 7ms/step - loss: 0.0655 - accuracy: 0.9759 - val_loss: 0.1324 - val_accuracy: 0.9559\n",
            "Epoch 70/100\n",
            "1470/1470 [==============================] - 9s 6ms/step - loss: 0.0696 - accuracy: 0.9748 - val_loss: 0.1104 - val_accuracy: 0.9640\n",
            "Epoch 71/100\n",
            "1470/1470 [==============================] - 10s 7ms/step - loss: 0.0669 - accuracy: 0.9759 - val_loss: 0.1153 - val_accuracy: 0.9648\n",
            "Epoch 72/100\n",
            "1470/1470 [==============================] - 11s 7ms/step - loss: 0.0685 - accuracy: 0.9757 - val_loss: 0.1140 - val_accuracy: 0.9621\n",
            "Epoch 73/100\n",
            "1470/1470 [==============================] - 10s 7ms/step - loss: 0.0599 - accuracy: 0.9785 - val_loss: 0.1139 - val_accuracy: 0.9639\n",
            "Epoch 74/100\n",
            "1470/1470 [==============================] - 10s 7ms/step - loss: 0.0672 - accuracy: 0.9755 - val_loss: 0.1255 - val_accuracy: 0.9633\n",
            "Epoch 75/100\n",
            "1470/1470 [==============================] - 11s 7ms/step - loss: 0.0676 - accuracy: 0.9754 - val_loss: 0.1105 - val_accuracy: 0.9641\n",
            "Epoch 76/100\n",
            "1470/1470 [==============================] - 11s 7ms/step - loss: 0.0661 - accuracy: 0.9762 - val_loss: 0.1228 - val_accuracy: 0.9635\n",
            "Epoch 77/100\n",
            "1470/1470 [==============================] - 11s 7ms/step - loss: 0.0583 - accuracy: 0.9791 - val_loss: 0.1198 - val_accuracy: 0.9649\n",
            "Epoch 78/100\n",
            "1470/1470 [==============================] - 11s 7ms/step - loss: 0.0643 - accuracy: 0.9766 - val_loss: 0.1122 - val_accuracy: 0.9644\n",
            "Epoch 79/100\n",
            "1470/1470 [==============================] - 11s 7ms/step - loss: 0.0622 - accuracy: 0.9775 - val_loss: 0.1192 - val_accuracy: 0.9655\n",
            "Epoch 80/100\n",
            "1470/1470 [==============================] - 11s 7ms/step - loss: 0.0593 - accuracy: 0.9790 - val_loss: 0.1426 - val_accuracy: 0.9581\n",
            "Epoch 81/100\n",
            "1470/1470 [==============================] - 10s 7ms/step - loss: 0.0571 - accuracy: 0.9792 - val_loss: 0.1466 - val_accuracy: 0.9518\n",
            "Epoch 82/100\n",
            "1470/1470 [==============================] - 10s 7ms/step - loss: 0.0624 - accuracy: 0.9777 - val_loss: 0.1217 - val_accuracy: 0.9627\n",
            "Epoch 83/100\n",
            "1470/1470 [==============================] - 11s 7ms/step - loss: 0.0566 - accuracy: 0.9792 - val_loss: 0.1183 - val_accuracy: 0.9633\n",
            "Epoch 84/100\n",
            "1470/1470 [==============================] - 10s 7ms/step - loss: 0.0583 - accuracy: 0.9780 - val_loss: 0.1169 - val_accuracy: 0.9643\n",
            "Epoch 85/100\n",
            "1470/1470 [==============================] - 10s 7ms/step - loss: 0.0595 - accuracy: 0.9790 - val_loss: 0.1200 - val_accuracy: 0.9637\n",
            "Epoch 86/100\n",
            "1470/1470 [==============================] - 10s 7ms/step - loss: 0.0629 - accuracy: 0.9774 - val_loss: 0.1153 - val_accuracy: 0.9639\n",
            "Epoch 87/100\n",
            "1470/1470 [==============================] - 10s 7ms/step - loss: 0.0593 - accuracy: 0.9787 - val_loss: 0.1210 - val_accuracy: 0.9599\n",
            "Epoch 88/100\n",
            "1470/1470 [==============================] - 10s 7ms/step - loss: 0.0610 - accuracy: 0.9780 - val_loss: 0.1177 - val_accuracy: 0.9650\n",
            "Epoch 89/100\n",
            "1470/1470 [==============================] - 11s 7ms/step - loss: 0.0592 - accuracy: 0.9784 - val_loss: 0.1115 - val_accuracy: 0.9662\n",
            "Epoch 90/100\n",
            "1470/1470 [==============================] - 10s 7ms/step - loss: 0.0561 - accuracy: 0.9796 - val_loss: 0.1122 - val_accuracy: 0.9660\n",
            "Epoch 91/100\n",
            "1470/1470 [==============================] - 10s 7ms/step - loss: 0.0551 - accuracy: 0.9802 - val_loss: 0.1150 - val_accuracy: 0.9640\n",
            "Epoch 92/100\n",
            "1470/1470 [==============================] - 11s 7ms/step - loss: 0.0579 - accuracy: 0.9790 - val_loss: 0.1392 - val_accuracy: 0.9578\n",
            "Epoch 93/100\n",
            "1470/1470 [==============================] - 10s 7ms/step - loss: 0.0542 - accuracy: 0.9807 - val_loss: 0.1205 - val_accuracy: 0.9628\n",
            "Epoch 94/100\n",
            "1470/1470 [==============================] - 11s 7ms/step - loss: 0.0576 - accuracy: 0.9790 - val_loss: 0.1252 - val_accuracy: 0.9660\n",
            "Epoch 95/100\n",
            "1470/1470 [==============================] - 11s 7ms/step - loss: 0.0548 - accuracy: 0.9805 - val_loss: 0.1218 - val_accuracy: 0.9629\n",
            "Epoch 96/100\n",
            "1470/1470 [==============================] - 10s 7ms/step - loss: 0.0560 - accuracy: 0.9793 - val_loss: 0.1321 - val_accuracy: 0.9605\n",
            "Epoch 97/100\n",
            "1470/1470 [==============================] - 11s 8ms/step - loss: 0.0511 - accuracy: 0.9815 - val_loss: 0.1229 - val_accuracy: 0.9645\n",
            "Epoch 98/100\n",
            "1470/1470 [==============================] - 11s 8ms/step - loss: 0.0526 - accuracy: 0.9809 - val_loss: 0.1201 - val_accuracy: 0.9626\n",
            "Epoch 99/100\n",
            "1470/1470 [==============================] - 11s 7ms/step - loss: 0.0527 - accuracy: 0.9815 - val_loss: 0.1553 - val_accuracy: 0.9579\n",
            "Epoch 100/100\n",
            "1470/1470 [==============================] - 11s 8ms/step - loss: 0.0570 - accuracy: 0.9790 - val_loss: 0.1347 - val_accuracy: 0.9620\n"
          ]
        }
      ]
    },
    {
      "cell_type": "code",
      "source": [
        "model.save('gender_detection.model')"
      ],
      "metadata": {
        "id": "ijk7cVqUKWCs"
      },
      "execution_count": 20,
      "outputs": []
    },
    {
      "cell_type": "code",
      "source": [
        "plt.style.use(\"ggplot\")\n",
        "plt.figure()\n",
        "N=epochs\n",
        "plt.plot(np.arange(0,N), history.history[\"loss\"], label=\"train loss\")\n",
        "plt.plot(np.arange(0,N), history.history[\"val_loss\"], label=\"validation loss\")\n",
        "plt.plot(np.arange(0,N), history.history[\"accuracy\"], label=\"train accuracy\")\n",
        "plt.plot(np.arange(0,N), history.history[\"val_accuracy\"], label=\"test accuracy\")\n",
        "\n",
        "plt.title(\"train, test loss/accuracy\")\n",
        "plt.xlabel(\"Epochs #\")\n",
        "plt.ylabel(\"loss/accuracy\")\n",
        "plt.legend(loc=\"upper right\")\n",
        "\n",
        "plt.savefig('loss_accuracy.png')"
      ],
      "metadata": {
        "colab": {
          "base_uri": "https://localhost:8080/",
          "height": 477
        },
        "id": "EogaY85F0AaL",
        "outputId": "fc93f4db-6805-4ff8-be45-c3a12a1c4ff6"
      },
      "execution_count": 23,
      "outputs": [
        {
          "output_type": "display_data",
          "data": {
            "text/plain": [
              "<Figure size 640x480 with 1 Axes>"
            ],
            "image/png": "[encoded data removed]"
          },
          "metadata": {}
        }
      ]
    },
    {
      "cell_type": "code",
      "source": [],
      "metadata": {
        "id": "36QA-Q5bvuvX"
      },
      "execution_count": null,
      "outputs": []
    }
  ]
}